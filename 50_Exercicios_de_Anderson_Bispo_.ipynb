{
  "nbformat": 4,
  "nbformat_minor": 0,
  "metadata": {
    "colab": {
      "provenance": [],
      "authorship_tag": "ABX9TyPdMKXkMbbsvRKznYKR/pEY",
      "include_colab_link": true
    },
    "kernelspec": {
      "name": "python3",
      "display_name": "Python 3"
    },
    "language_info": {
      "name": "python"
    }
  },
  "cells": [
    {
      "cell_type": "markdown",
      "metadata": {
        "id": "view-in-github",
        "colab_type": "text"
      },
      "source": [
        "<a href=\"https://colab.research.google.com/github/0Lu4an/0Lu4an/blob/main/50_Exercicios_de_Anderson_Bispo_.ipynb\" target=\"_parent\"><img src=\"https://colab.research.google.com/assets/colab-badge.svg\" alt=\"Open In Colab\"/></a>"
      ]
    },
    {
      "cell_type": "code",
      "execution_count": null,
      "metadata": {
        "colab": {
          "base_uri": "https://localhost:8080/"
        },
        "id": "yLX3PS5ASEgB",
        "outputId": "6fcb9d3e-37ff-43c8-f379-992fce3e2949"
      },
      "outputs": [
        {
          "output_type": "stream",
          "name": "stdout",
          "text": [
            "Qual seu primeiro numero? 1\n",
            "Qual seu segundo numero? 1\n",
            "2\n"
          ]
        }
      ],
      "source": [
        "print (\"Questão: 1\")\n",
        "num1 = int ( input (\"Qual seu primeiro numero? \"))\n",
        "num2 = int ( input (\"Qual seu segundo numero? \"))\n",
        "soma = num1 + num2\n",
        "print ( soma )"
      ]
    },
    {
      "cell_type": "code",
      "source": [
        "print (\"Questão: 2\")\n",
        "num1 = float ( input (\"Qual o seu primeiro numero da subtração? \"))\n",
        "num2 = float ( input (\"Qual o seu segundo numero da subtração? \"))\n",
        "sub = num1 - num2\n",
        "print ( sub )"
      ],
      "metadata": {
        "colab": {
          "base_uri": "https://localhost:8080/"
        },
        "id": "sDimlAdhUUV9",
        "outputId": "770f857c-1e90-484b-8f65-80b99ac1dc55"
      },
      "execution_count": null,
      "outputs": [
        {
          "output_type": "stream",
          "name": "stdout",
          "text": [
            "Qual o seu primeiro numero da subtração? 10\n",
            "Qual o seu segundo numero da subtração? 8\n",
            "2.0\n"
          ]
        }
      ]
    },
    {
      "cell_type": "code",
      "source": [
        "print (\"Questão: 3\")\n",
        "num1 = float ( input (\"Qual primeiro numero da multiplicação? \"))\n",
        "num2 = float ( input (\"Qual segundo numero? \"))\n",
        "mul = num1 * num2\n",
        "print ( mul )"
      ],
      "metadata": {
        "colab": {
          "base_uri": "https://localhost:8080/"
        },
        "id": "whQpcXqkVs3c",
        "outputId": "0c438c6c-3bd1-4301-8515-34a644935465"
      },
      "execution_count": null,
      "outputs": [
        {
          "output_type": "stream",
          "name": "stdout",
          "text": [
            "Qual primeiro numero da multiplicação? 10\n",
            "Qual segundo numero? 3\n",
            "30.0\n"
          ]
        }
      ]
    },
    {
      "cell_type": "code",
      "source": [
        "print (\"Questão: 4\")\n",
        "num1 = int ( input (\"Qual o primeiro numero da divisão? \"))\n",
        "num2 = int ( input (\"Qual o segundo?\"))\n",
        "div = num1 // num2\n",
        "print ( div )"
      ],
      "metadata": {
        "colab": {
          "base_uri": "https://localhost:8080/"
        },
        "id": "f3-8fkEdWGJ1",
        "outputId": "d2e4febc-967d-4bed-f795-dc124219e65f"
      },
      "execution_count": null,
      "outputs": [
        {
          "output_type": "stream",
          "name": "stdout",
          "text": [
            "Qual o primeiro numero da divisão? 13\n",
            "Qual o segundo?2\n",
            "6\n"
          ]
        }
      ]
    },
    {
      "cell_type": "code",
      "source": [
        "print (\"Questão: 5\")\n",
        "num1 = float ( input (\"Qual o primeiro numero de sua divisão? \"))\n",
        "num2 = float ( input (\"Qual o segundo? \"))\n",
        "div = num1 / num2\n",
        "print ( div )"
      ],
      "metadata": {
        "colab": {
          "base_uri": "https://localhost:8080/"
        },
        "id": "TRgveRFzY-XF",
        "outputId": "48a004a8-a4d6-4f53-f33d-6c3d5de18b1e"
      },
      "execution_count": null,
      "outputs": [
        {
          "output_type": "stream",
          "name": "stdout",
          "text": [
            "Qual o primeiro numero de sua divisão? 13\n",
            "Qual o segundo? 2\n",
            "6.5\n"
          ]
        }
      ]
    },
    {
      "cell_type": "code",
      "source": [
        "print (\"Questão: 6\")\n",
        "num1 = float ( input (\"Qual o primeiro numero da média? \"))\n",
        "num2 = float ( input (\"Qual o segundo? \"))\n",
        "num3 = float ( input (\"Qual o terceiro? \"))\n",
        "media = ( num1 + num2 + num3 ) / 3\n",
        "print ( media )"
      ],
      "metadata": {
        "colab": {
          "base_uri": "https://localhost:8080/"
        },
        "id": "7_4Qcz8yacff",
        "outputId": "0256cd2d-d7e3-4bac-c5d4-f81f24bc42f0"
      },
      "execution_count": null,
      "outputs": [
        {
          "output_type": "stream",
          "name": "stdout",
          "text": [
            "Qual o primeiro numero da média? 13\n",
            "Qual o segundo? 2\n",
            "Qual o terceiro? 3\n",
            "6.0\n"
          ]
        }
      ]
    },
    {
      "cell_type": "code",
      "source": [
        "print (\"Questão: 7 \")\n",
        "num = int ( input (\"Qual numero será elevado? \"))\n",
        "elevado = num ** 2\n",
        "print(\"O numero \", num, \" ao quadrado é igual a: \" ,elevado)"
      ],
      "metadata": {
        "colab": {
          "base_uri": "https://localhost:8080/"
        },
        "id": "nJ3-GJvgawJ6",
        "outputId": "d710b5f2-7ef3-479b-931f-699cada96b47"
      },
      "execution_count": null,
      "outputs": [
        {
          "output_type": "stream",
          "name": "stdout",
          "text": [
            "Qual numero será elevado? 3\n",
            "O numero  3  ao quadrado é igual a:  9\n"
          ]
        }
      ]
    },
    {
      "cell_type": "code",
      "source": [
        "print (\"Questão: 8 \")\n",
        "num1 = int ( input (\"Qual seu primeiro numero? \"))\n",
        "num2 = int ( input (\"Qual seu segundo?\"))\n",
        "elevado = ( num1 + num2 ) ** 2\n",
        "print (\"Os dois numeros colocado acima foram elevados e ficaram com o valor de: \", elevado)"
      ],
      "metadata": {
        "colab": {
          "base_uri": "https://localhost:8080/"
        },
        "id": "rsGlfyT2cLMI",
        "outputId": "b8e33507-b609-4114-aa06-306e0f1c490b"
      },
      "execution_count": null,
      "outputs": [
        {
          "output_type": "stream",
          "name": "stdout",
          "text": [
            "Questão: 8 \n",
            "Qual seu primeiro numero? 10\n",
            "Qual seu segundo?10\n",
            "Os dois numeros colocado acima foram elevados e ficaram com o valor de:  400\n"
          ]
        }
      ]
    },
    {
      "cell_type": "code",
      "source": [
        "print (\"Questão: 9 \")\n",
        "base = float ( input (\"Qual o valor da base do triangulo? \"))\n",
        "altura = float ( input (\"Qual o valor da altura do triangulo? \"))\n",
        "area = ( base + altura ) / 2\n",
        "print (\"O valor da area desse triangulo com base:\", base, \" e altura: \", altura, \"será igual á:\", area)"
      ],
      "metadata": {
        "colab": {
          "base_uri": "https://localhost:8080/"
        },
        "id": "QHDpsmyBdlVN",
        "outputId": "88860ade-963d-4a49-b293-2a2eaa9ff694"
      },
      "execution_count": null,
      "outputs": [
        {
          "output_type": "stream",
          "name": "stdout",
          "text": [
            "Questão: 9 \n",
            "Qual o valor da base do triangulo? 12\n",
            "Qual o valor da altura do triangulo? 3\n",
            "O valor da area desse triangulo com base: 12.0  e altura:  3.0 será igual á: 7.5\n"
          ]
        }
      ]
    },
    {
      "cell_type": "code",
      "source": [
        "print (\"Questão: 10 \")\n",
        "valI = float ( input (\"Qual o valor inicial de seu produto? \"))\n",
        "print (\"A loja está oferecendo um cupom de 10% de desconto. \")\n",
        "desconto = valI * 0.10\n",
        "valF = valI - desconto\n",
        "print (\"O valor final na compra deste produto será igual á: \", valF)"
      ],
      "metadata": {
        "colab": {
          "base_uri": "https://localhost:8080/"
        },
        "id": "nIz6OnvYeZ1U",
        "outputId": "a1b55184-0db6-4fdf-f6fe-977b71553d99"
      },
      "execution_count": null,
      "outputs": [
        {
          "output_type": "stream",
          "name": "stdout",
          "text": [
            "Questão: 10 \n",
            "Qual o valor inicial de seu produto? 1200\n",
            "A loja está oferecendo um cupom de 10% de desconto. \n",
            "O valor final na compra deste produto será igual á:  1080.0\n"
          ]
        }
      ]
    },
    {
      "cell_type": "code",
      "source": [
        "print (\"Questão: 11 \")\n",
        "n1 = float ( input (' Digite o primeiro numero: '))\n",
        "n2 = float ( input (' Digite o segundo numero: '))\n",
        "if n1 > n2 :\n",
        "  print ('O primeiro numero é maior que o segundo.')\n",
        "else :\n",
        "  print ('O segundo numero é maior que o primeiro.')"
      ],
      "metadata": {
        "colab": {
          "base_uri": "https://localhost:8080/"
        },
        "id": "K1CYmC3Jf8aC",
        "outputId": "51e3e1b3-4f8b-4c91-b6c1-00c8277100be"
      },
      "execution_count": null,
      "outputs": [
        {
          "output_type": "stream",
          "name": "stdout",
          "text": [
            "Questão: 11 \n",
            " Digite o primeiro numero: 5\n",
            " Digite o segundo numero: 10\n",
            "O segundo numero é maior que o primeiro.\n"
          ]
        }
      ]
    },
    {
      "cell_type": "code",
      "source": [
        "print (\"Questão: 12 \")\n",
        "numero = int ( input ('Digite algum numero inteiro: '))\n",
        "if numero % 2 == 0 :\n",
        "   print ('Seu numero é PAR. ')\n",
        "else:\n",
        "   print ('Seu numero é IMPAR. ')"
      ],
      "metadata": {
        "colab": {
          "base_uri": "https://localhost:8080/"
        },
        "id": "qwKq17oxhc49",
        "outputId": "d7b7220e-78cd-47c1-8d7b-5098726b6b34"
      },
      "execution_count": null,
      "outputs": [
        {
          "output_type": "stream",
          "name": "stdout",
          "text": [
            "Questão: 12 \n",
            "Digite algum numero inteiro: 10\n",
            "Seu numero é PAR. \n"
          ]
        }
      ]
    },
    {
      "cell_type": "code",
      "source": [
        "print (\"Questão: 13 \")\n",
        "print ('Verificador de idade. ')\n",
        "idade = int ( input ('Qual a sua idade?: '))\n",
        "if 18 <= idade <= 60 :\n",
        "   print ('Sua idade ESTÁ entre 18 e 60 anos.')\n",
        "else :\n",
        "   print ('Sua idade NÃO está entre 18 e 60 anos. ')"
      ],
      "metadata": {
        "colab": {
          "base_uri": "https://localhost:8080/"
        },
        "id": "hH2eDBJnjX2R",
        "outputId": "fa1a3284-c4e0-41e3-be17-83e71c1ee0fa"
      },
      "execution_count": null,
      "outputs": [
        {
          "output_type": "stream",
          "name": "stdout",
          "text": [
            "Questão: 13 \n",
            "Verificador de idade. \n",
            "Qual a sua idade?: 30\n",
            "Sua idade ESTÁ entre 18 e 60 anos.\n"
          ]
        }
      ]
    },
    {
      "cell_type": "code",
      "source": [
        "print (\"Questão: 14 \")\n",
        "numero = int ( input ('Digite um numero: '))\n",
        "if numero % 3 == 0 and numero % 5 == 0:\n",
        "    print ( numero ,' é multiplo de 3 e de 5. ')\n",
        "elif numero % 3 == 0 :\n",
        "    print ( numero ,' é multiplo de 3. ')\n",
        "elif numero % 5 == 0 :\n",
        "    print ( numero ,' é multiplo de 5. ')\n",
        "else :\n",
        "    print ( numero, ' não é multiplo de 3 e nem de 5.')"
      ],
      "metadata": {
        "id": "jJbPbEY4lJOv",
        "colab": {
          "base_uri": "https://localhost:8080/"
        },
        "outputId": "e0dd1557-879d-4117-bff4-2ed33b5b2ff2"
      },
      "execution_count": null,
      "outputs": [
        {
          "output_type": "stream",
          "name": "stdout",
          "text": [
            "Questão: 14 \n",
            "Digite um numero: 30\n",
            "30  é multiplo de 3 e de 5. \n"
          ]
        }
      ]
    },
    {
      "cell_type": "code",
      "source": [
        "print (' Questão: 15 ')\n",
        "numero = int ( input (' Digite um valor: '))\n",
        "if numero != 0 :\n",
        "   print ('Seu numero NÃO é igual a zero. ')\n",
        "else :\n",
        "   print ('O seu numero é IGUAL á zero. ')"
      ],
      "metadata": {
        "colab": {
          "base_uri": "https://localhost:8080/"
        },
        "id": "9idwCoqJnpQp",
        "outputId": "3452383d-7350-4ff7-b350-4c42f61f007a"
      },
      "execution_count": null,
      "outputs": [
        {
          "output_type": "stream",
          "name": "stdout",
          "text": [
            " Questão: 15 \n",
            " Digite um valor: 0\n",
            "O seu numero é IGUAL á zero. \n"
          ]
        }
      ]
    },
    {
      "cell_type": "code",
      "source": [
        "print (' Questão: 16')\n",
        "num = int ( input (' Digite um valor: '))\n",
        "if num >= 0 and num <= 100 :\n",
        "   print (' Seu numero está entre 0 e 100. ')\n",
        "else :\n",
        "   print (' Seu numero NÃO está entre 0 e 100. ')"
      ],
      "metadata": {
        "colab": {
          "base_uri": "https://localhost:8080/"
        },
        "id": "i2zm7e6YogEH",
        "outputId": "39963c97-23f5-4545-d2a1-6e2666a24942"
      },
      "execution_count": null,
      "outputs": [
        {
          "output_type": "stream",
          "name": "stdout",
          "text": [
            " Questão: 16\n",
            " Digite um valor: 50\n",
            " Seu numero está entre 0 e 100. \n"
          ]
        }
      ]
    },
    {
      "cell_type": "code",
      "source": [
        "print (' Questão: 17 ')\n",
        "senha1 = input (' Digite sua PRIMEIRA senha: ')\n",
        "senha2 = input (' Digite sua SEGUNDA senha: ')\n",
        "if senha1 == senha2 :\n",
        "   print (' Suas senhas estão iguais. ')\n",
        "else :\n",
        "   print (' Senhas diferentes. ')"
      ],
      "metadata": {
        "colab": {
          "base_uri": "https://localhost:8080/"
        },
        "id": "bLfMiSFjpbeV",
        "outputId": "a427a9c1-9e4d-4566-d938-283b51440cf9"
      },
      "execution_count": null,
      "outputs": [
        {
          "output_type": "stream",
          "name": "stdout",
          "text": [
            " Questão: 17 \n",
            " Digite sua PRIMEIRA senha: Luan\n",
            " Digite sua SEGUNDA senha: Luan\n",
            " Suas senhas estão iguais. \n"
          ]
        }
      ]
    },
    {
      "cell_type": "code",
      "source": [
        "print (' Questão: 18 ')\n",
        "idade = int ( input (' Qual sua idade?: '))\n",
        "cnh = input (' Você tem cnh? Sim ou Não?: ')\n",
        "if idade >= 18 and cnh == 'Sim' :\n",
        "   print ('Você está apto a dirigir. ')\n",
        "else :\n",
        "   print ('Você ainda não pode dirigir. ')"
      ],
      "metadata": {
        "colab": {
          "base_uri": "https://localhost:8080/"
        },
        "id": "IGU9lzkjqJka",
        "outputId": "61a4c1ab-3ab3-4b65-b14c-3ab0e8103bdd"
      },
      "execution_count": null,
      "outputs": [
        {
          "output_type": "stream",
          "name": "stdout",
          "text": [
            " Questão: 18 \n",
            " Qual sua idade?: 19 \n",
            " Você tem cnh? Sim ou Não?: Não\n",
            "Você ainda não pode dirigir. \n"
          ]
        }
      ]
    },
    {
      "cell_type": "code",
      "source": [
        "print (' Questão: 19 ')\n",
        "print (' Verificador de palavras iguais. ')\n",
        "string1 = str ( input ('Oque você deseja digitar primeiro?: '))\n",
        "string2 = str ( input ('Oque você deseja digitar por segundo?: '))\n",
        "if string1 == string2 :\n",
        "   print (' Você digitou as mesmas palavras. ')\n",
        "else :\n",
        "   print (' Você digitou palavras diferentes. ')"
      ],
      "metadata": {
        "colab": {
          "base_uri": "https://localhost:8080/"
        },
        "id": "HWZ7XN1euty_",
        "outputId": "03bcbf92-2e64-466b-8454-10c70a3f693d"
      },
      "execution_count": null,
      "outputs": [
        {
          "output_type": "stream",
          "name": "stdout",
          "text": [
            " Questão: 19\n",
            " Verificador de palavras iguais. \n",
            "Oque você deseja digitar primeiro?: Luan\n",
            "Oque você deseja digitar por segundo?: Luan\n",
            " Você digitou as mesmas palavras. \n"
          ]
        }
      ]
    },
    {
      "cell_type": "code",
      "source": [
        "print (' Questão: 20 ')\n",
        "num = int ( input (' Digite um numero: '))\n",
        "if num >= 10 and num <= 50 :\n",
        "   print (' Seu numero está entre 10 e 50. ')\n",
        "elif num <= 9 :\n",
        "   print (' Seu numero é menor que 10. ')\n",
        "elif num >= 51 :\n",
        "   print (' Seu numero é maior que 50. ')"
      ],
      "metadata": {
        "colab": {
          "base_uri": "https://localhost:8080/"
        },
        "id": "RVD0uPXMvy0A",
        "outputId": "bad9ad45-6392-4c23-dc74-8aa84d0e96ca"
      },
      "execution_count": null,
      "outputs": [
        {
          "output_type": "stream",
          "name": "stdout",
          "text": [
            " Questão: 20 \n",
            " Digite um numero: 10\n",
            " Seu numero está entre 10 e 50. \n"
          ]
        }
      ]
    },
    {
      "cell_type": "code",
      "source": [
        "print (' Questão: 21')\n",
        "numero_inteiro = 10\n",
        "numero_decimal = 1.10\n",
        "verdade_ou_falso = True\n",
        "texto = 'Tirei nota máxima nesse exercicio. '\n",
        "print (' Um tipo de int: ', numero_inteiro)\n",
        "print (' Um tipo de float: ', numero_decimal)\n",
        "print (' Um tipo de bool: ', verdade_ou_falso)\n",
        "print (' Um tipo de string: ', texto)"
      ],
      "metadata": {
        "colab": {
          "base_uri": "https://localhost:8080/"
        },
        "id": "dr_wQm4lvYCO",
        "outputId": "d1c6a5e6-6eab-40ec-d1f6-2e332b1548c6"
      },
      "execution_count": null,
      "outputs": [
        {
          "output_type": "stream",
          "name": "stdout",
          "text": [
            " Questão: 21\n",
            " Um tipo de int:  10\n",
            " Um tipo de float:  1.1\n",
            " Um tipo de bool:  True\n",
            " Um tipo de string:  Tirei nota máxima nesse exercicio. \n"
          ]
        }
      ]
    },
    {
      "cell_type": "code",
      "source": [
        "print (' Questão: 22')\n",
        "num_str = input('Digite um numero. ')\n",
        "num_int = int(num_str)\n",
        "print ('Você digitou: ', num_int)\n",
        "print ('O tipo da variavel virou', type(num_int))"
      ],
      "metadata": {
        "colab": {
          "base_uri": "https://localhost:8080/"
        },
        "id": "ZUEGsQqnwpwP",
        "outputId": "dfe4c6dd-985d-43fa-d4bf-8b5f28ec5cf7"
      },
      "execution_count": null,
      "outputs": [
        {
          "output_type": "stream",
          "name": "stdout",
          "text": [
            " Questão: 22\n",
            "Digite um numero. 19\n",
            "Você digitou:  19\n",
            "O tipo da variavel virou <class 'int'>\n"
          ]
        }
      ]
    },
    {
      "cell_type": "code",
      "source": [
        "print (' Questão: 23')\n",
        "num_str = input ('Digite um numero DECIMAL: ')\n",
        "num_flo = float( num_str )\n",
        "print ('Você digitou: ', num_str )\n",
        "print ('O tipo de sua variavel agora virou: ', type(num_flo))"
      ],
      "metadata": {
        "colab": {
          "base_uri": "https://localhost:8080/"
        },
        "id": "WwtFqJieNzT2",
        "outputId": "5fc3e942-babf-4da8-deab-ab28b310c5bf"
      },
      "execution_count": null,
      "outputs": [
        {
          "output_type": "stream",
          "name": "stdout",
          "text": [
            " Questão: 23\n",
            "Digite um numero DECIMAL: 1.0\n",
            "Você digitou:  1.0\n",
            "O tipo de sua variavel agora virou:  <class 'float'>\n"
          ]
        }
      ]
    },
    {
      "cell_type": "code",
      "source": [
        "print ('Questão: 24')\n",
        "valor_log = TRUE\n",
        "valor_str = str( valor_log )\n",
        "print ('Seu valor logico foi: ', valor_log )\n",
        "print ('E sua variavel foi convertida há: ', type( valor_str ))"
      ],
      "metadata": {
        "colab": {
          "base_uri": "https://localhost:8080/"
        },
        "id": "j5FyQXrCOwvg",
        "outputId": "4c2f21ff-3f4e-43d3-8c78-663baba1fd2e"
      },
      "execution_count": null,
      "outputs": [
        {
          "output_type": "stream",
          "name": "stdout",
          "text": [
            "Questão: 24\n",
            "Seu valor logico foi:  b'I01\\n'\n",
            "E sua variavel foi convertida há:  <class 'str'>\n"
          ]
        }
      ]
    },
    {
      "cell_type": "code",
      "source": [
        "print ('Questão: 25')\n",
        "nome = input ('Qual seu nome? ')\n",
        "idade = int( input ('Qual sua idade? '))\n",
        "altura = float( input ('Qual sua altura? '))\n",
        "print (' Olá, ', nome,'. Seja bem-vindo(a).' )\n",
        "print (' Você tem: ', idade,' anos de idade e mede: ', altura,' de altura.' )"
      ],
      "metadata": {
        "colab": {
          "base_uri": "https://localhost:8080/"
        },
        "id": "ms8qt_2rq5pb",
        "outputId": "d8e38da5-2f79-4d94-eb5a-fc1b7c0ff2ab"
      },
      "execution_count": null,
      "outputs": [
        {
          "output_type": "stream",
          "name": "stdout",
          "text": [
            "Questão: 25\n",
            "Qual seu nome? Luiz\n",
            "Qual sua idade? 14\n",
            "Qual sua altura? 1.60\n",
            " Olá,  Luiz . Seja bem-vindo(a).\n",
            " Você tem:  14  anos de idade e mede:  1.6  de altura.\n"
          ]
        }
      ]
    },
    {
      "cell_type": "code",
      "source": [
        "print (' Questão: 26 ')\n",
        "num = input('Digite um numero decimal: ')\n",
        "if '.' in num:\n",
        "   parte_decimal = num.split('.')[1]\n",
        "   casas_decimal = len(parte_decimal)\n",
        "else:\n",
        "   casas_decimal = 0\n",
        "print('O numero digitado tem ', casas_decimal,' casas decimais. ')"
      ],
      "metadata": {
        "colab": {
          "base_uri": "https://localhost:8080/"
        },
        "id": "u4YEmDTGsnJV",
        "outputId": "05206c77-c59e-446b-a9f6-09db6c56ed3a"
      },
      "execution_count": null,
      "outputs": [
        {
          "output_type": "stream",
          "name": "stdout",
          "text": [
            " Questão: 26 \n",
            "Digite um numero decimal: 10.123\n",
            "O numero digitado tem  3  casas decimais. \n"
          ]
        }
      ]
    },
    {
      "cell_type": "code",
      "source": [
        "print (' Questão: 27 ')\n",
        "str = input('Digite alguma coisa: ')\n",
        "quant = len(str)\n",
        "print (' A string digitada contém ', quant,' caracteres. ')"
      ],
      "metadata": {
        "colab": {
          "base_uri": "https://localhost:8080/"
        },
        "id": "zF9DH0V_udV7",
        "outputId": "c00f13a5-1a66-4ca1-ccae-54aa68ef0b3d"
      },
      "execution_count": null,
      "outputs": [
        {
          "output_type": "stream",
          "name": "stdout",
          "text": [
            " Questão: 27 \n",
            "Digite alguma coisa: Oi, boa noite.\n",
            " A string digitada contém  14  caracteres. \n"
          ]
        }
      ]
    },
    {
      "cell_type": "code",
      "source": [
        "print (' Questão: 28 ')\n",
        "num_int = int(input(' Digite algum numero inteiro: '))\n",
        "num_flo = float(num_int)\n",
        "print ('Seu numero digitado foi: ', num_int )\n",
        "print ('A variavel de seu numero se tornou: ', type(num_flo))"
      ],
      "metadata": {
        "colab": {
          "base_uri": "https://localhost:8080/"
        },
        "id": "Yn504vU8vYLr",
        "outputId": "106dae85-f006-4442-daec-c70d3efd29f1"
      },
      "execution_count": null,
      "outputs": [
        {
          "output_type": "stream",
          "name": "stdout",
          "text": [
            " Questão: 28 \n",
            " Digite algum numero inteiro: 10\n",
            "Seu numero digitado foi:  10\n",
            "A variavel de seu numero se tornou:  <class 'float'>\n"
          ]
        }
      ]
    },
    {
      "cell_type": "code",
      "source": [
        "print (' Questão: 29 ')\n",
        "valor_str1 = input ('Digite seu primeiro valor booleano (TRUE ou FALSE).') .strip().upper()\n",
        "valor_str2 = input ('Digite seu segundo valor booleano (TRUE ou FALSE).') .strip().upper()\n",
        "v1 = valor_str1 == 'TRUE'\n",
        "v2 = valor_str2 == 'TRUE'\n",
        "resultado = v1 and v2\n",
        "print (v1,' AND ', v2,' = ', resultado)"
      ],
      "metadata": {
        "colab": {
          "base_uri": "https://localhost:8080/"
        },
        "id": "I1eMexaJwNKd",
        "outputId": "1f52375d-268c-4fc7-a509-55ec975b82b0"
      },
      "execution_count": null,
      "outputs": [
        {
          "output_type": "stream",
          "name": "stdout",
          "text": [
            " Questão: 29 \n",
            "Digite seu primeiro valor booleano (TRUE ou FALSE).10\n",
            "Digite seu segundo valor booleano (TRUE ou FALSE).10\n",
            "False  AND  False  =  False\n"
          ]
        }
      ]
    },
    {
      "cell_type": "code",
      "source": [
        "print (' Questão: 30 ')\n",
        "num1 = input ('Digite seu primeiro numero: ')\n",
        "num2 = input ('Digite seu segundo numero: ')\n",
        "\n",
        "num1_int = int(num1)1\n",
        "num2_int = int(num2)\n",
        "\n",
        "num1_flo = float(num1)\n",
        "num2_flo = float(num2)\n",
        "\n",
        "soma_int = num1_int + num2_int\n",
        "soma_flo = num1_flo + num2_flo\n",
        "\n",
        "if soma_int == soma_flo:\n",
        "   print('As somas de INT e FLOAT estão idênticas. ')\n",
        "\n",
        "else:\n",
        "   print('As somas de INT e FLOAT NÃO estão idênticas. ')\n"
      ],
      "metadata": {
        "colab": {
          "base_uri": "https://localhost:8080/"
        },
        "id": "nMqXe9h6ymkt",
        "outputId": "46599016-23d7-40b0-e1e9-ea12dc6028e7"
      },
      "execution_count": null,
      "outputs": [
        {
          "output_type": "stream",
          "name": "stdout",
          "text": [
            " Questão: 30 \n",
            "Digite seu primeiro numero: 10\n",
            "Digite seu segundo numero: 9\n",
            "As somas de INT e FLOAT estão idênticas. \n"
          ]
        }
      ]
    },
    {
      "cell_type": "code",
      "source": [
        "print ('Questão: 31')\n",
        "nome = input ('Digite seu nome: ')\n",
        "print (f'Olá, {nome}.')"
      ],
      "metadata": {
        "colab": {
          "base_uri": "https://localhost:8080/"
        },
        "id": "Xk0bBnFx30rL",
        "outputId": "3ef6539b-3f62-4d6c-b5db-f2c75624fe3e"
      },
      "execution_count": null,
      "outputs": [
        {
          "output_type": "stream",
          "name": "stdout",
          "text": [
            "Questão: 31\n",
            "Digite seu nome: Luan\n",
            "Olá, Luan.\n"
          ]
        }
      ]
    },
    {
      "cell_type": "code",
      "source": [
        "print ('Questão: 32 ')\n",
        "num1 = int(input('Digite seu primeiro numero: '))\n",
        "num2 = int(input('Digite seu segundo numero: '))\n",
        "m = num1 * num2\n",
        "print (f'A multiplicação entre {num1} e {num2} é igual há: {m}')"
      ],
      "metadata": {
        "colab": {
          "base_uri": "https://localhost:8080/"
        },
        "id": "LcPo-X0B4cnx",
        "outputId": "0fc2809c-b276-42cb-ca6e-3207d71b37c7"
      },
      "execution_count": null,
      "outputs": [
        {
          "output_type": "stream",
          "name": "stdout",
          "text": [
            "Questão: 32 \n",
            "Digite seu primeiro numero: 10\n",
            "Digite seu segundo numero: 5\n",
            "A multiplicação entre 10 e 5 é igual há: 50\n"
          ]
        }
      ]
    },
    {
      "cell_type": "code",
      "source": [
        "print ('Questão: 33 ')\n",
        "m = float(input('Digite algum numero em metros: '))\n",
        "c = m * 100\n",
        "print (f'Esse numero em centimetros é igual há: {c}cm')"
      ],
      "metadata": {
        "colab": {
          "base_uri": "https://localhost:8080/"
        },
        "id": "2Apx5fpa4_G5",
        "outputId": "79778ec0-efbf-4dbb-d197-09a3e9de8e0a"
      },
      "execution_count": null,
      "outputs": [
        {
          "output_type": "stream",
          "name": "stdout",
          "text": [
            "Questão: 33 \n",
            "Digite algum numero em metros: 7\n",
            "Esse numero em centimetros é igual há: 700.0cm\n"
          ]
        }
      ]
    },
    {
      "cell_type": "code",
      "source": [
        "print ('Questão: 34 ')\n",
        "r = float(input('Digite quanto reais você tem: '))\n",
        "d = r * 5\n",
        "print (f'Seu dinheiro foi convertido em dolars, antes era {r} e em dolar agora é {d}')"
      ],
      "metadata": {
        "colab": {
          "base_uri": "https://localhost:8080/"
        },
        "id": "BKxeXuS952FC",
        "outputId": "b5ab6751-cb3c-4e33-e06c-a4bd6e3aeba6"
      },
      "execution_count": null,
      "outputs": [
        {
          "output_type": "stream",
          "name": "stdout",
          "text": [
            "Questão: 34 \n",
            "Digite quanto reais você tem: 100\n",
            "Seu dinheiro foi convertido em dolars, antes era 100.0 e em dolar agora é 500.0\n"
          ]
        }
      ]
    },
    {
      "cell_type": "code",
      "source": [
        "print ('Questão: 35 ')\n",
        "idade = int(input('Digite sua idade: '))\n",
        "if idade >= 18 :\n",
        "   print ('Você é maior de idade. ')\n",
        "else :\n",
        "   print ('Você é menor de idade. ')"
      ],
      "metadata": {
        "colab": {
          "base_uri": "https://localhost:8080/"
        },
        "id": "J8Aj8n3g6l-H",
        "outputId": "18a10d50-3115-4a50-f9ea-24c6272e8820"
      },
      "execution_count": null,
      "outputs": [
        {
          "output_type": "stream",
          "name": "stdout",
          "text": [
            "Questão: 35 \n",
            "Digite sua idade: 19\n",
            "Você é maior de idade. \n"
          ]
        }
      ]
    },
    {
      "cell_type": "code",
      "source": [
        "print ('Questão: 36 ')\n",
        "diast = int(input('Quantos dias você trabalhou? '))\n",
        "print ('Seu salário é de R$120 por dia. ')\n",
        "novos = diast * 120\n",
        "print (f'Você vai receber {novos} por seus {diast} trabalhados. ')"
      ],
      "metadata": {
        "colab": {
          "base_uri": "https://localhost:8080/"
        },
        "id": "Qvws2eULxCtc",
        "outputId": "5932257e-54dd-4327-f8e5-4f2e8bc8372b"
      },
      "execution_count": null,
      "outputs": [
        {
          "output_type": "stream",
          "name": "stdout",
          "text": [
            "Questão: 36 \n",
            "Quantos dias você trabalhou? 19\n",
            "Seu salário é de R$120 por dia. \n",
            "Você vai receber 2280 por seus 19 trabalhados. \n"
          ]
        }
      ]
    },
    {
      "cell_type": "code",
      "source": [
        "print ('Questão: 37 ')\n",
        "precop = int(input('Digite o preço de um produto: '))\n",
        "quant = int(input('Qual a quantidade desejada? '))\n",
        "res = precop * quant\n",
        "print (f'O total a pagar é igual a: {res}')"
      ],
      "metadata": {
        "colab": {
          "base_uri": "https://localhost:8080/"
        },
        "id": "WUCEbTG7x24K",
        "outputId": "0f3674a4-439f-4d72-ce74-5092d61a7c07"
      },
      "execution_count": null,
      "outputs": [
        {
          "output_type": "stream",
          "name": "stdout",
          "text": [
            "Questão: 37 \n",
            "Digite o preço de um produto: 19\n",
            "Qual a quantidade desejada? 100\n",
            "O total a pagar é igual a: 1900\n"
          ]
        }
      ]
    },
    {
      "cell_type": "code",
      "source": [
        "print ('Questão: 38 ')\n",
        "num = int(input('Digite um numero e sera mostrado seu sucessor e antecessor. '))\n",
        "num1 = num + 1\n",
        "num2 = num - 1\n",
        "print (f'Você digitou o numero: {num}')\n",
        "print (f'Seu sucessor é: {num1}')\n",
        "print (f'Seu antecessor é: {num2}')"
      ],
      "metadata": {
        "colab": {
          "base_uri": "https://localhost:8080/"
        },
        "id": "doMZpbLQyxTN",
        "outputId": "bb444e6e-57fc-408b-f853-31c629be2807"
      },
      "execution_count": null,
      "outputs": [
        {
          "output_type": "stream",
          "name": "stdout",
          "text": [
            "Questão: 38 \n",
            "Digite um numero e sera mostrado seu sucessor e antecessor. 100\n",
            "Você digitou o numero: 100\n",
            "Seu sucessor é: 101\n",
            "Seu antecessor é: 99\n"
          ]
        }
      ]
    },
    {
      "cell_type": "code",
      "source": [
        "print ('Questão: 39 ')\n",
        "valor = int(input('Digite um numero: '))\n",
        "if valor == 100:\n",
        "   print ('Seu numero é IGUAL a 100. ')\n",
        "else:\n",
        "   print ('Seu numero NÃO é igual a 100. ')"
      ],
      "metadata": {
        "colab": {
          "base_uri": "https://localhost:8080/"
        },
        "id": "LPD90be2zgfG",
        "outputId": "e12c963c-4a8b-4d1d-8556-be8b9541010f"
      },
      "execution_count": null,
      "outputs": [
        {
          "output_type": "stream",
          "name": "stdout",
          "text": [
            "Questão: 39 \n",
            "Digite um numero: 99\n",
            "Seu numero NÃO é igual a 100. \n"
          ]
        }
      ]
    },
    {
      "cell_type": "code",
      "source": [
        "print ('Questão: 40 ')\n",
        "num1 = float(input('Digite seu PRIMEIRO numero: '))\n",
        "num2 = float(input('Digite seu SEGUNDO numero: '))\n",
        "soma = num1 + num2\n",
        "sub = num1 - num2\n",
        "mul = num1 * num2\n",
        "div = num1 // num2\n",
        "print (f'A soma de seus numeros é igual a:               {soma}')\n",
        "print (f'A subtração de seus numeros é igual a:          {sub}')\n",
        "print (f'A multiplicação entre seus numeros é igual a:   {mul}')\n",
        "print (f'A divisão entre seus numeros é igual a:         {div}')"
      ],
      "metadata": {
        "colab": {
          "base_uri": "https://localhost:8080/"
        },
        "id": "ekt6H-1-0NjJ",
        "outputId": "0547ef1b-8eb8-419b-dd49-50ddd31c27b4"
      },
      "execution_count": null,
      "outputs": [
        {
          "output_type": "stream",
          "name": "stdout",
          "text": [
            "Questão: 40 \n",
            "Digite seu PRIMEIRO numero: 100\n",
            "Digite seu SEGUNDO numero: 3\n",
            "A soma de seus numeros é igual a:               103.0\n",
            "A subtração de seus numeros é igual a:          97.0\n",
            "A multiplicação entre seus numeros é igual a:   300.0\n",
            "A divisão entre seus numeros é igual a:         33.0\n"
          ]
        }
      ]
    },
    {
      "cell_type": "code",
      "source": [
        "print ('Questão: 41 ')\n",
        "nota = float(input('Qual sua nota final? '))\n",
        "if nota >= 7:\n",
        "   print ('Você está APROVADO!!! ')\n",
        "else:\n",
        "   print ('Você está REPROVADO!!!')"
      ],
      "metadata": {
        "colab": {
          "base_uri": "https://localhost:8080/"
        },
        "id": "u9qsnvR12gbW",
        "outputId": "317512b8-f960-422d-a6e2-9bd4537e439d"
      },
      "execution_count": null,
      "outputs": [
        {
          "output_type": "stream",
          "name": "stdout",
          "text": [
            "Questão: 41 \n",
            "Qual sua nota final? 9.5\n",
            "Você está APROVADO!!! \n"
          ]
        }
      ]
    },
    {
      "cell_type": "code",
      "source": [
        "print ('Questão: 42 ')\n",
        "idade = int(input('Qual sua idade? '))\n",
        "if idade >= 16:\n",
        "   print ('Você já tem o direito ao VOTO. ')\n",
        "else:\n",
        "   print ('Você não pode VOTAR!!! ')"
      ],
      "metadata": {
        "colab": {
          "base_uri": "https://localhost:8080/"
        },
        "id": "GIs2YAnG3gdj",
        "outputId": "1e872519-4351-4808-e86f-9ffe38036c77"
      },
      "execution_count": null,
      "outputs": [
        {
          "output_type": "stream",
          "name": "stdout",
          "text": [
            "Questão: 42 \n",
            "Qual sua idade? 19\n",
            "Você já tem o direito ao VOTO. \n"
          ]
        }
      ]
    },
    {
      "cell_type": "code",
      "source": [
        "print ('Questão: 43 ')\n",
        "temp = float(input('Qual a temperatura do local em que você está? '))\n",
        "if temp <= 18:\n",
        "   print ('Você está em um local FRIO. ')\n",
        "elif temp >= 19 and temp <= 24:\n",
        "   print ('Você está em um local com a temperatura AGRADÁVEL. ')\n",
        "else:\n",
        "   print ('Ai deve está CALOR. ')"
      ],
      "metadata": {
        "colab": {
          "base_uri": "https://localhost:8080/"
        },
        "id": "ZPf6fbIf4IVc",
        "outputId": "77a88828-d3be-45d8-a4d1-83ced8c418a0"
      },
      "execution_count": null,
      "outputs": [
        {
          "output_type": "stream",
          "name": "stdout",
          "text": [
            "Questão: 43 \n"
          ]
        }
      ]
    },
    {
      "cell_type": "code",
      "source": [
        "print ('Questão: 44 ')\n",
        "ano = int(input('Digite o ano de seu nascimento. '))\n",
        "if ano <= 2007:\n",
        "   print ('Você JÁ é maior de idade. ')\n",
        "else:\n",
        "   print ('Você ainda NÃO completou a maior idade. ')"
      ],
      "metadata": {
        "colab": {
          "base_uri": "https://localhost:8080/"
        },
        "id": "Wx81pMOJ6Hld",
        "outputId": "d457c202-42f8-448e-f810-4857756f59de"
      },
      "execution_count": null,
      "outputs": [
        {
          "output_type": "stream",
          "name": "stdout",
          "text": [
            "Questão: 44 \n",
            "Digite o ano de seu nascimento. 2008\n",
            "Você ainda NÃO completou a maior idade. \n"
          ]
        }
      ]
    },
    {
      "cell_type": "code",
      "source": [
        "print ('Questão: 45 ')\n",
        "num1 = float(input('Digite seu PRIMEIRO numero.: '))\n",
        "num2 = float(input('Digite seu SEGUNDO numero.: '))\n",
        "if num1 == num2:\n",
        "   print ('Os numeros digitaddos são IGUAIS. ')\n",
        "else:\n",
        "   print ('Os numeros digitados são DIFERENTES. ')\n",
        "if num1 > num2:\n",
        "   print (f'O numero {num1} é MAIOR que {num2}.')\n",
        "else:\n",
        "   print (f'O numero {num2} é MAIOR que {num1}.')"
      ],
      "metadata": {
        "id": "Bx7-kn1g6-wB",
        "colab": {
          "base_uri": "https://localhost:8080/"
        },
        "outputId": "7b8f43a1-cd91-4a23-f174-fc14430e2231"
      },
      "execution_count": null,
      "outputs": [
        {
          "output_type": "stream",
          "name": "stdout",
          "text": [
            "Questão: 45 \n",
            "Digite seu PRIMEIRO numero.: 10\n",
            "Digite seu SEGUNDO numero.: 12\n",
            "Os numeros digitados são DIFERENTES. \n",
            "O numero 12.0 é MAIOR que 10.0.\n"
          ]
        }
      ]
    },
    {
      "cell_type": "code",
      "source": [
        "print ('Questão: 46 ')\n",
        "num = float(input('Digite um numero: '))\n",
        "if num >= 1:\n",
        "   print ('O numero digitado é POSITIVO.')\n",
        "elif num <= -1:\n",
        "   print ('O numero digitado é NEGATIVO. ')\n",
        "else:\n",
        "   print ('O numero digitado é ZERO. ')"
      ],
      "metadata": {
        "colab": {
          "base_uri": "https://localhost:8080/"
        },
        "id": "B8vZhmzGojFo",
        "outputId": "d5349000-d4dd-4604-ff4a-4f05552515cc"
      },
      "execution_count": null,
      "outputs": [
        {
          "output_type": "stream",
          "name": "stdout",
          "text": [
            "Questão: 46 \n",
            "Digite um numero: 0\n",
            "O numero digitado é ZERO. \n"
          ]
        }
      ]
    },
    {
      "cell_type": "code",
      "source": [
        "print ('Questão: 47 ')\n",
        "nome = input ('Digite seu nome: ')\n",
        "senha = input ('Digite sua senha: ')\n",
        "if nome == 'admin' and senha == '1234':\n",
        "   print (' Acesso PERMITIDO. ')\n",
        "else:\n",
        "   print (' Acesso NEGADO. ')"
      ],
      "metadata": {
        "colab": {
          "base_uri": "https://localhost:8080/"
        },
        "id": "CT6ECq7UqYSB",
        "outputId": "12cb5dfe-f6ad-4db8-cb24-59c6048eba37"
      },
      "execution_count": null,
      "outputs": [
        {
          "output_type": "stream",
          "name": "stdout",
          "text": [
            "Questão: 47 \n",
            "Digite seu nome: admin\n",
            "Digite sua senha: 1234\n",
            " Acesso PERMITIDO. \n"
          ]
        }
      ]
    },
    {
      "cell_type": "code",
      "source": [
        "print ('Questão: 48 ')\n",
        "num = int(input('Digite um numero: '))\n",
        "if num % 2 == 0 and num % 3 == 0:\n",
        "   print (f'O numero {num} é multiplo de 2 e de 3 ao mesmo tempo. ')\n",
        "else:\n",
        "   print (f'O numero {num} NÃO é multiplo de 2 e de 3 ao mesmo tempo. ')"
      ],
      "metadata": {
        "colab": {
          "base_uri": "https://localhost:8080/"
        },
        "id": "yMX0gH8vrev3",
        "outputId": "396a9775-8b99-4de0-dd51-c52ace4dd4b4"
      },
      "execution_count": null,
      "outputs": [
        {
          "output_type": "stream",
          "name": "stdout",
          "text": [
            "Questão: 48 \n",
            "Digite um numero: 30\n",
            "O numero 30 é multiplo de 2 e de 3 ao mesmo tempo. \n"
          ]
        }
      ]
    },
    {
      "cell_type": "code",
      "source": [
        "print ('Questão: 49 ')\n",
        "media = float(input('Digite sua média: '))\n",
        "if media >= 9:\n",
        "   print ('Você foi APROVADO com louvor. ')\n",
        "elif media >= 7:\n",
        "   print ('Você foi APROVADO. ')\n",
        "else:\n",
        "   print ('Quem mandou burrar, vai passar mais um período com nois. REPROVADO!!! ')"
      ],
      "metadata": {
        "colab": {
          "base_uri": "https://localhost:8080/"
        },
        "id": "ZQMErSiBsi41",
        "outputId": "a45a89a4-decd-4ad4-fc58-d8780f0e856a"
      },
      "execution_count": null,
      "outputs": [
        {
          "output_type": "stream",
          "name": "stdout",
          "text": [
            "Questão: 49 \n",
            "Digite sua média: 10\n",
            "Você foi APROVADO com louvor. \n"
          ]
        }
      ]
    },
    {
      "cell_type": "code",
      "source": [
        "print ('Questão: 50 ')\n",
        "idade = int(input('Digite sua idade: '))\n",
        "if idade <= 12:\n",
        "   print ('Você é uma CRIANÇA. ')\n",
        "elif 13 <= idade <= 17:\n",
        "   print ('Você é ADOLESCENTE. ')\n",
        "elif 18 <=\n",
        "idade <= 64:\n",
        "   print ('Você é ADULTO. ')\n",
        "else:\n",
        "   print ('Você já é um IDOSO.')"
      ],
      "metadata": {
        "id": "YYa12tCxYa9d",
        "colab": {
          "base_uri": "https://localhost:8080/"
        },
        "outputId": "bd4f53d2-73f7-4c46-c535-63d72baf8c1f"
      },
      "execution_count": 19,
      "outputs": [
        {
          "output_type": "stream",
          "name": "stdout",
          "text": [
            "Questão: 50 \n",
            "Digite sua idade: 19\n",
            "Você é ADULTO. \n"
          ]
        }
      ]
    }
  ]
}